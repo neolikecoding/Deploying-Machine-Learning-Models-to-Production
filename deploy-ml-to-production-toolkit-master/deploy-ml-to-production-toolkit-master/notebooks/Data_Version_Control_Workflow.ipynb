{
 "cells": [
  {
   "cell_type": "markdown",
   "metadata": {},
   "source": [
    "## Data Versioning Example\n",
    "[DVC](https://dvc.org/) is an open-source framework and distributed version control system for machine learning projects. DVC is designed to handle large files, models, and metrics as well as code. Check out the [Getting Started](https://dvc.org/doc/get-started) page for more info. \n",
    "\n",
    "[Here's another example](https://dvc.org/doc/get-started/example) of an end-to-end machine learning scenario for your reference.\n",
    "![alt text](../assets/images/dvc_info.png)"
   ]
  },
  {
   "cell_type": "markdown",
   "metadata": {},
   "source": [
    "## Example DVC Workflow with Airline Data\n",
    "This tutorial will illustrate how to use the DVC documentation to implement an an example with our airline data.\n",
    "\n",
    "1. **Installation:** Normally, you need to do a `pip install dvc` but `dvc` is already included in our conda enviornment.\n",
    "You can refer to [installation documentation](https://dvc.org/doc/get-started/install) for more help.\n",
    "\n",
    "2. **Initialization:** You'll need to `dvc init && git commit -m 'initialize dvc'` to initialize your project to use DVC. \n",
    "After DVC initialization, a new directory `.dvc` will be created with config and `.gitignore` files and `cache` directory. These files and directories are hidden from a user in general and a user does not interact with these files directly. The last command, git commit, puts `.dvc/config` and `.dvc/.gitignore` files under Git control."
   ]
  },
  {
   "cell_type": "code",
   "execution_count": 1,
   "metadata": {},
   "outputs": [
    {
     "name": "stdout",
     "output_type": "stream",
     "text": [
      "config          link.state.lock state           updater\r\n",
      "link.state      lock            state.lock\r\n"
     ]
    }
   ],
   "source": [
    "!ls ../.dvc/"
   ]
  },
  {
   "cell_type": "markdown",
   "metadata": {},
   "source": [
    "3. **Configure (Optional)**: Once you install DVC, you will be able to start using it (in its local setup) immediately. However, a remote storage (or remote) should be set up if you need to share data outside of a local environment. For example, to setup an S3 remote: `dvc remote add -d myremote s3://mybucket/myproject`. \n",
    " A remote can be specified by the remote type preffix and a path. As of this version, DVC supports six types of remotes:\n",
    "```\n",
    "    local - Local directory\n",
    "    s3 - Amazon Simple Storage Service\n",
    "    gs - Google Cloud Storage\n",
    "    azure - Azure Blob Storage\n",
    "    ssh - Secure Shell\n",
    "    hdfs - The Hadoop Distributed File System\n",
    "```\n",
    "\n",
    "4. **Add Files**: DVC allows storing and versioning source data files, ML models, directories, intermediate results with Git, without checking the file contents into Git.  Let's first add our dataset to DVC, by default, DVC will use `.dvc` directory from the location where `dvc` commands are executed."
   ]
  },
  {
   "cell_type": "code",
   "execution_count": 2,
   "metadata": {},
   "outputs": [
    {
     "name": "stdout",
     "output_type": "stream",
     "text": [
      "Saving '../data/external/allyears2k.csv' to cache '../.dvc/cache'.\u001b[0m\n",
      "Saving information to '../data/external/allyears2k.csv.dvc'.\u001b[0m\n",
      "\u001b[0m"
     ]
    }
   ],
   "source": [
    "!dvc add ../data/external/allyears2k.csv"
   ]
  },
  {
   "cell_type": "markdown",
   "metadata": {},
   "source": [
    "5. **Share & Retrieve Data**: Now, that your data files are managed by DVC (see Add Files), you can push them from your repository to the default remote storage using `dvc push`. \n",
    "\n",
    "    The same way as with Git remote, it ensures that your data files and your models are safely stored remotely and are shareable. It means that this data could be pulled by your team or you when you need it.\n",
    "\n",
    "    Usually you run it along with git commit and git push to save changes to .dvc files to Git. \n",
    "    \n",
    "    To retrieve data files to your local machine and your project's workspace run `dvc pull`."
   ]
  },
  {
   "cell_type": "markdown",
   "metadata": {},
   "source": [
    "6. **Connect Code and Data**: Even in its basic scenarios, commands like `dvc add`, `dvc push`, `dvc pull` described in the previous sections could be used independently and provide a basic useful framework to track, save and share models and large data files.\n",
    "\n",
    "    Let's take a look at the help menu to determine which top level options are available..."
   ]
  },
  {
   "cell_type": "code",
   "execution_count": 3,
   "metadata": {},
   "outputs": [
    {
     "name": "stdout",
     "output_type": "stream",
     "text": [
      "usage: dvc [-h] [-q] [-v] [-V] COMMAND ...\r\n",
      "\r\n",
      "Data Version Control\r\n",
      "\r\n",
      "optional arguments:\r\n",
      "  -h, --help     show this help message and exit\r\n",
      "  -q, --quiet    Be quiet.\r\n",
      "  -v, --verbose  Be verbose.\r\n",
      "  -V, --version  Show program's version\r\n",
      "\r\n",
      "Available Commands:\r\n",
      "  COMMAND        Use dvc COMMAND --help for command-specific help\r\n",
      "    init         Initialize dvc over a directory (should already be a git dir)\r\n",
      "    destroy      Destroy dvc\r\n",
      "    add          Add files/directories to dvc\r\n",
      "    import       Import files from URL\r\n",
      "    checkout     Checkout data files from cache\r\n",
      "    run          Generate a stage file from a given command and execute the command\r\n",
      "    pull         Pull data files from the cloud\r\n",
      "    push         Push data files to the cloud\r\n",
      "    fetch        Fetch data files from the cloud\r\n",
      "    status       Show the project status\r\n",
      "    repro        Reproduce DVC file. Default file name - 'Dvcfile'\r\n",
      "    remove       Remove outputs of DVC file.\r\n",
      "    move         Move output of DVC file.\r\n",
      "    gc           Collect garbage\r\n",
      "    config       Get or set config options\r\n",
      "    remote       Manage set of tracked repositories\r\n",
      "    metrics      Get metrics from all branches\r\n",
      "    install      Install dvc hooks into the repository\r\n",
      "    root         Relative path to project's directory\r\n",
      "    lock         Lock DVC file\r\n",
      "    unlock       Unlock DVC file\r\n",
      "    pipeline     Manage pipeline\r\n",
      "\u001b[0m"
     ]
    }
   ],
   "source": [
    "!dvc -h"
   ]
  },
  {
   "cell_type": "markdown",
   "metadata": {},
   "source": [
    "Let's now take a look at `dvc run` for more info on how to stage & execute our training process such that it will be repeatable & reproducible by others."
   ]
  },
  {
   "cell_type": "code",
   "execution_count": 4,
   "metadata": {},
   "outputs": [
    {
     "name": "stdout",
     "output_type": "stream",
     "text": [
      "usage: dvc run [-h] [-q] [-v] [-d DEPS] [-o OUTS] [-O OUTS_NO_CACHE]\r\n",
      "               [-M METRICS_NO_CACHE] [-f FILE] [-c CWD] [--no-exec]\r\n",
      "               ...\r\n",
      "\r\n",
      "positional arguments:\r\n",
      "  command               Command or command file to execute\r\n",
      "\r\n",
      "optional arguments:\r\n",
      "  -h, --help            show this help message and exit\r\n",
      "  -q, --quiet           Be quiet.\r\n",
      "  -v, --verbose         Be verbose.\r\n",
      "  -d DEPS, --deps DEPS  Declare dependencies for reproducible cmd.\r\n",
      "  -o OUTS, --outs OUTS  Declare output data file or data directory.\r\n",
      "  -O OUTS_NO_CACHE, --outs-no-cache OUTS_NO_CACHE\r\n",
      "                        Declare output regular file or directory (sync to Git,\r\n",
      "                        not DVC cache).\r\n",
      "  -M METRICS_NO_CACHE, --metrics-no-cache METRICS_NO_CACHE\r\n",
      "                        Declare output metric file or directory (not cached by\r\n",
      "                        DVC).\r\n",
      "  -f FILE, --file FILE  Specify name of the state file\r\n",
      "  -c CWD, --cwd CWD     Directory to run your command and place state file in\r\n",
      "  --no-exec             Only create stage file without actually running it\r\n",
      "\u001b[0m"
     ]
    }
   ],
   "source": [
    "!dvc run -h"
   ]
  },
  {
   "cell_type": "markdown",
   "metadata": {},
   "source": [
    "6. **Connect Code and Data**: To achieve full reproducibility though you have to connect your code and configuration with the data it processes to produce the result:"
   ]
  },
  {
   "cell_type": "code",
   "execution_count": null,
   "metadata": {},
   "outputs": [
    {
     "name": "stdout",
     "output_type": "stream",
     "text": [
      "processed.dvc already exists. Do you wish to overwrite it?\n",
      "Running command:\n",
      "\tpython ../src/models/Static_Model_Pitfalls_of_Model_Development.py\u001b[0m\n",
      "numpy: 1.14.3\n",
      "pandas: 0.23.0\n",
      "sklearn: 0.19.1\n",
      "xgboost: 0.72\n",
      "\n",
      "Label Encode Target into Integers...\n",
      "\n",
      "Get Training Data...\n",
      "Original shape: (43978, 31)\n",
      "After columns dropped shape: (43978, 13)\n",
      "\n",
      "Naive One-Hot-Encode for features: ['UniqueCarrier', 'Dest', 'Origin']\n",
      "\n",
      "Total number of features before encoding: 13\n",
      "\n",
      "Total number of features after encoding: 286\n",
      "\n",
      "Label Encode Target into Integers...\n",
      "\n",
      "Get Training Data...\n",
      "Original shape: (43978, 31)\n",
      "After columns dropped shape: (43978, 13)\n",
      "\n",
      "Naive One-Hot-Encode for features: ['UniqueCarrier', 'Dest', 'Origin']\n",
      "\n",
      "Total number of features before encoding: 13\n",
      "\n",
      "Total number of features after encoding: 286\n",
      "[01:14:17] src/tree/updater_prune.cc:74: tree pruning end, 1 roots, 44 extra nodes, 0 pruned nodes, max_depth=5\n",
      "[0]\ttrain-error:0.359407\n",
      "[01:14:17] src/tree/updater_prune.cc:74: tree pruning end, 1 roots, 44 extra nodes, 0 pruned nodes, max_depth=5\n",
      "[1]\ttrain-error:0.351189\n",
      "\n",
      "Feature Importances...\n",
      "\n",
      "Feature Importances {'DayofMonth': 4, 'Year': 7, 'CRSArrTime': 6, 'Cancelled': 7, 'UniqueCarrier__HP': 5, 'Origin__COS': 1, 'Distance': 3, 'Origin__MDW': 1, 'Origin__IND': 1, 'Dest__PVD': 1, 'Origin__PIT': 1, 'FlightNum': 1, 'CRSElapsedTime': 3, 'Dest__PHX': 1, 'Origin__OKC': 1, 'UniqueCarrier__WN': 1}\n",
      "Accuracy: 64.61%\n",
      "\n",
      "Confusion Matrix...\n",
      "[[3039 3216]\n",
      " [1453 5486]]\n",
      "\n",
      "Classification Report...\n",
      "             precision    recall  f1-score   support\n",
      "\n",
      "          0       0.68      0.49      0.57      6255\n",
      "          1       0.63      0.79      0.70      6939\n",
      "\n",
      "avg / total       0.65      0.65      0.64     13194\n",
      "\n",
      "Finished saving training design matrix: ../data/processed/airlines_training_examples.pkl\n",
      "Finished saving training targets: ../data/processed/airlines_training_targets.pkl\n",
      "Finished saving test design matrix: ../data/processed/airlines_training_examples.pkl\n",
      "Finished saving test targets: ../data/processed/airlines_training_targets.pkl\n",
      "Pipeline Completed\n",
      "Saving '../data/processed' to cache '../.dvc/cache'.\u001b[0m\n",
      "Saving information to 'processed.dvc'.\u001b[0m\n",
      "\u001b[0m"
     ]
    }
   ],
   "source": [
    "!yes | dvc run -d ../src/models/Static_Model_Pitfalls_of_Model_Development.py -d ../data/external/allyears2k.csv \\\n",
    "              -o ../data/processed/ \\\n",
    "              python ../src/models/Static_Model_Pitfalls_of_Model_Development.py"
   ]
  },
  {
   "cell_type": "code",
   "execution_count": null,
   "metadata": {
    "scrolled": true
   },
   "outputs": [],
   "source": [
    "!ls -ltr ../data/processed/"
   ]
  },
  {
   "cell_type": "markdown",
   "metadata": {},
   "source": [
    "7. **Reproduce**: In the previous section we described our first pipeline. Basically, we created a number of `*.dvc` files. Each file describes a single step we need to run to get to the final result. Each depends on some data (either source data files or some intermediate results from another *.dvc file) and code files.\n",
    "\n",
    "    It's now extremely easy for you or anyone in your team to reproduce the result end-to-end:"
   ]
  },
  {
   "cell_type": "code",
   "execution_count": null,
   "metadata": {},
   "outputs": [],
   "source": [
    "!dvc repro processed.dvc"
   ]
  }
 ],
 "metadata": {
  "kernelspec": {
   "display_name": "Python 3",
   "language": "python",
   "name": "python3"
  },
  "language_info": {
   "codemirror_mode": {
    "name": "ipython",
    "version": 3
   },
   "file_extension": ".py",
   "mimetype": "text/x-python",
   "name": "python",
   "nbconvert_exporter": "python",
   "pygments_lexer": "ipython3",
   "version": "3.6.5"
  }
 },
 "nbformat": 4,
 "nbformat_minor": 2
}
