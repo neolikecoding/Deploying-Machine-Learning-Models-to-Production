{
 "cells": [
  {
   "cell_type": "code",
   "execution_count": 1,
   "metadata": {},
   "outputs": [],
   "source": [
    "import cx_Oracle"
   ]
  },
  {
   "cell_type": "code",
   "execution_count": 3,
   "metadata": {},
   "outputs": [],
   "source": [
    "dbconn = cx_Oracle.connect('ADG_USER','ADGUS3R',cx_Oracle.makedsn('DDMPROD.usvci001.vci.na.vwg',1527,'DIM_PREPROD'))"
   ]
  },
  {
   "cell_type": "code",
   "execution_count": 4,
   "metadata": {},
   "outputs": [],
   "source": [
    "cursor = dbconn.cursor()"
   ]
  },
  {
   "cell_type": "code",
   "execution_count": 5,
   "metadata": {},
   "outputs": [],
   "source": [
    "sql = \"select * from dw_mart.vehicle_dim where rownum <=100\""
   ]
  },
  {
   "cell_type": "code",
   "execution_count": 6,
   "metadata": {},
   "outputs": [
    {
     "data": {
      "text/plain": [
       "<cx_Oracle.Cursor on <cx_Oracle.Connection to ADG_USER@(DESCRIPTION=(ADDRESS=(PROTOCOL=TCP)(HOST=DDMPROD.usvci001.vci.na.vwg)(PORT=1527))(CONNECT_DATA=(SID=DIM_PREPROD)))>>"
      ]
     },
     "execution_count": 6,
     "metadata": {},
     "output_type": "execute_result"
    }
   ],
   "source": [
    "cursor.execute(sql)"
   ]
  },
  {
   "cell_type": "code",
   "execution_count": 7,
   "metadata": {},
   "outputs": [
    {
     "name": "stdout",
     "output_type": "stream",
     "text": [
      "[(20060953, 'WVWJK73C09P025725', 20160805, 20160813, 'S_M_ELV_DIM_VEHICLE_VALUE', datetime.datetime(2016, 8, 6, 0, 51, 48), 'S_M_ELV_DIM_VEHICLE_VALUE', datetime.datetime(2016, 8, 15, 16, 17, 8), 'Volkswagen', 'Passat Sedan', '2009', '2.0L', '3C25L6', 'KOMFORT', 'Sedan', 'USA', 'DEEP BLACK PEARL', 'G', 'BLACK V-TEX LEATHERETTE', 'PASSAT SEDAN 2.0T KOMFORT -AUTOMATIC', 'A', '4', '4', '2T2T', 'QQ', 'PIO,PPK', 'FWD', '4DR', 'Sedan', 'USA', '2.0L', 'DEEP BLACK PEARL', 'G', 'BLACK V-TEX LEATHERETTE', 'Volkswagen', 'PASSAT SEDAN 2.0T KOMFORT -AUTOMATIC', '3C25L6', 'Passat Sedan', '2009', 'A', 'KOMFORT', '4', '4', '2T2T', 'QQ', 'PIO,PPK', 'VOLKSWAGEN', 'PASSAT', '4DR', 'FWD', '2.0T', '3C25L6', '2009', None, 'AUTO - TURBO', 6400.0, 7025.0, 5770.0, 7992.0, '0', datetime.datetime(2011, 12, 27, 0, 0), 36, '587', datetime.datetime(2008, 12, 27, 0, 0), 59689, datetime.datetime(2014, 10, 15, 0, 0), None, 'Anthony J Shuman', 29488.0), (20060955, 'WVWJK73C09P032853', 20160805, 20160813, 'S_M_ELV_DIM_VEHICLE_VALUE', datetime.datetime(2016, 8, 6, 0, 51, 48), 'S_M_ELV_DIM_VEHICLE_VALUE', datetime.datetime(2016, 8, 15, 16, 17, 8), 'Volkswagen', 'Passat Sedan', '2009', '2.0L', '3C25L6', 'KOMFORT', 'Sedan', 'USA', 'DEEP BLACK PEARL', 'G', 'BLACK V-TEX LEATHERETTE', 'PASSAT SEDAN 2.0T KOMFORT -AUTOMATIC', 'A', '4', '4', '2T2T', 'QQ', 'BLS', 'FWD', '4dr Front-wheel Drive Sedan', 'Sedan', 'USA', '2.0L', 'DEEP BLACK PEARL', 'G', 'BLACK V-TEX LEATHERETTE', 'Volkswagen', 'PASSAT SEDAN 2.0T KOMFORT -AUTOMATIC', '3C25L6', 'Passat Sedan', '2009', 'A', 'KOMFORT', '4', '4', '2T2T', 'QQ', 'BLS', 'Volkswagen', 'Passat', '4dr Front-wheel Drive Sedan', 'FWD', '2.0L', '3C25L6', '2009', 'Komfort', 'Sedan', 6400.0, 7025.0, 5770.0, 7992.0, '1', datetime.datetime(2011, 11, 18, 0, 0), 36, '143', datetime.datetime(2008, 11, 18, 0, 0), 98933, datetime.datetime(2015, 2, 27, 0, 0), None, 'Lee Whitney', 29319.0), (41175134, 'WVGBV7AX8HK012438', 20170329, 20170404, 'S_M_STG_DIM_VEHICLE_BR', datetime.datetime(2017, 3, 30, 20, 56, 1), 'S_M_ELV_VEHICLE_CPO', datetime.datetime(2017, 4, 6, 9, 42, 37), 'Volkswagen', 'NEW TIGUAN', '2017', '2.0T', '5N21V3', 'S 4MO', 'Sport Utility Vehicle', 'USA', 'DEEP BLACK PEARL EFFECT', 'G', 'BEIGE LEATHERETTE', 'TIGUAN S 4MOTION', 'A', '4', '4', '2T2T', 'NT', 'AID,TGM', 'AWD', '4dr All-wheel Drive 4MOTION', 'Sport Utility Vehicle', 'USA', '2.0T', 'DEEP BLACK PEARL EFFECT', 'G', 'BEIGE LEATHERETTE', 'Volkswagen', 'TIGUAN S 4MOTION', '5N21V3', 'NEW TIGUAN', '2017', 'A', 'S 4MO', '4', '4', '2T2T', 'NT', 'AID,TGM', 'Volkswagen', 'Tiguan', '4dr All-wheel Drive 4MOTION', 'AWD', '2.0L', '5N21V3', '2017', '2.0T S', 'SUV', None, None, None, None, None, datetime.datetime(2020, 2, 19, 0, 0), 36, '162', datetime.datetime(2017, 2, 19, 0, 0), 358, datetime.datetime(2017, 3, 25, 0, 0), None, 'Kenneth terry', 28105.0)]\n"
     ]
    }
   ],
   "source": [
    "res = cursor.fetchmany(numRows=3)\n",
    "print(res)"
   ]
  },
  {
   "cell_type": "code",
   "execution_count": null,
   "metadata": {},
   "outputs": [],
   "source": []
  }
 ],
 "metadata": {
  "kernelspec": {
   "display_name": "Python 3",
   "language": "python",
   "name": "python3"
  },
  "language_info": {
   "codemirror_mode": {
    "name": "ipython",
    "version": 3
   },
   "file_extension": ".py",
   "mimetype": "text/x-python",
   "name": "python",
   "nbconvert_exporter": "python",
   "pygments_lexer": "ipython3",
   "version": "3.6.2"
  }
 },
 "nbformat": 4,
 "nbformat_minor": 2
}
