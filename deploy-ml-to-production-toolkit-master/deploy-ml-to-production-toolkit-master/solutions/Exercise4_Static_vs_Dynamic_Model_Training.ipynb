{
 "cells": [
  {
   "cell_type": "markdown",
   "metadata": {},
   "source": [
    "## Question 1\n",
    "\n",
    "Which of the following statements is true of dynamic (online) training?\n",
    "\n",
    "a) We don’t care how long training takes, it’s inference time which matters\n",
    "\n",
    "b) Little or no monitoring is needed for model in production\n",
    "\n",
    "c) Model stays up to date as new data arrives\n",
    "\n",
    "d) We can validate predictions & model interpretability before applying them in production\n",
    "\n",
    "e) All of the above\n",
    "\n",
    "## Answer\n",
    "\n",
    "Answer is (c). The biggest advantage of online learning is that we can avoid model staleness issues since the model trains using new data as it becomes available for inference. Since data can be corrupted, something could go wrong during training, it's important to build functionality which can roll forward & back ML models. Just as we would for a static model, we should always monitor the inputs to ensure input data is available (not missing) which is just one of many failures we can encounter in a real world setting. When it comes to speed of inference, we generally prefer a response predict function whenever a function is called synchronously.\n",
    "\n",
    "## Question 2\n",
    "\n",
    "Which of the following statements is true of static (offline) training?\n",
    "\n",
    "a) We can validate predictions & model interpretability before applying them in production\n",
    "\n",
    "b) Offline training requires less monitoring of training jobs than online learning\n",
    "\n",
    "c) Model stays up to date as new data arrives\n",
    "\n",
    "d) All of the above\n",
    "\n",
    "\n",
    "## Answer\n",
    "Answer is (a,b). Training a model offline gives us an opportunity to verify model performance, review interpretability & economic impact with business, legal or compliance stakeholders. As you figured, there is no way for an offline model to learn from newly received data. This means that the data distribution can change over time."
   ]
  }
 ],
 "metadata": {
  "kernelspec": {
   "display_name": "Python 3",
   "language": "python",
   "name": "python3"
  },
  "language_info": {
   "codemirror_mode": {
    "name": "ipython",
    "version": 3
   },
   "file_extension": ".py",
   "mimetype": "text/x-python",
   "name": "python",
   "nbconvert_exporter": "python",
   "pygments_lexer": "ipython3",
   "version": "3.6.5"
  }
 },
 "nbformat": 4,
 "nbformat_minor": 2
}
