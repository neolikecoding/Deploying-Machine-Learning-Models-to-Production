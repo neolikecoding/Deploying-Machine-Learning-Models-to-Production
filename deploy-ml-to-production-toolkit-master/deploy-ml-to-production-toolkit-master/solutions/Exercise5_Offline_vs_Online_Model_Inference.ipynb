{
 "cells": [
  {
   "cell_type": "markdown",
   "metadata": {},
   "source": [
    "## Question 1\n",
    "\n",
    "Which of the following statements is true of dynamic inference?\n",
    "\n",
    "a) You must monitor input signals\n",
    "\n",
    "b) Don’t need to worry about how long predictions take as much as when performing static inference\n",
    "\n",
    "c) You can provide predictions for multiple rows of data\n",
    "\n",
    "d) Easier to roll back to a previous version of the model than with static inference\n",
    "\n",
    "e) All of the above\n",
    "\n",
    "## Answer \n",
    "Answer is (a, c). You want to always monitor inputs into your model to detect non-stationarity (i.e. seasonality) and data drift. Online inference is most commonly associated with synchronous requests, so we are interested in reducing the time it takes to make predictions. You can make your model API support inference of many rows. It's generally more work to roll back a version of your model than compared to static inference (done offline).\n",
    "\n",
    "## Question 2 \n",
    "\n",
    "In static inference, we make predictions on a large batch of data all at once. Which of the following statements is true of static inference?\n",
    "\n",
    "a) Predictions can be verified after generating them\n",
    "\n",
    "b) For a given input, we can serve a prediction quicker than with online inference\n",
    "\n",
    "c) Model will be able to quickly react to recent changes with input data\n",
    "\n",
    "d) Need to monitor signals carefully over long period of time\n",
    "\n",
    "e) All of the above\n",
    "\n",
    "## Answer \n",
    "Answer is (a, c). Since offline static inference is done during downtime, we can store the results and make them available during normal or peak operations via a database lookup (responsive). You also have the option of verifying your prediction outputs prior to deploying the model to a synchronous request/response model."
   ]
  }
 ],
 "metadata": {
  "kernelspec": {
   "display_name": "Python 3",
   "language": "python",
   "name": "python3"
  },
  "language_info": {
   "codemirror_mode": {
    "name": "ipython",
    "version": 3
   },
   "file_extension": ".py",
   "mimetype": "text/x-python",
   "name": "python",
   "nbconvert_exporter": "python",
   "pygments_lexer": "ipython3",
   "version": "3.6.5"
  }
 },
 "nbformat": 4,
 "nbformat_minor": 2
}
