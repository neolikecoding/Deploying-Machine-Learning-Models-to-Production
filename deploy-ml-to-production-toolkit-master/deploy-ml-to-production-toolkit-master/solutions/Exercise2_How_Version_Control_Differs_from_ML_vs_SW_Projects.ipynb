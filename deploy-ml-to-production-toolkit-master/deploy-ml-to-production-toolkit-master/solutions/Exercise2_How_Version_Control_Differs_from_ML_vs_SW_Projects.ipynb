{
 "cells": [
  {
   "cell_type": "markdown",
   "metadata": {},
   "source": [
    "## Question 1\n",
    "\n",
    "For a machine learning project, which type of artifacts should we version?\n",
    "\n",
    "a) Code + Configuration\n",
    "\n",
    "b) Data\n",
    "\n",
    "c) Model Binaries\n",
    "\n",
    "d) Data dictionary\n",
    "\n",
    "e) Model build, data analysis & model interpretability results\n",
    "\n",
    "f) All of the above\n",
    "\n",
    "## Answer\n",
    "\n",
    "Answer is (f). The goal is to be able to reproduce our predictive modeling work in a repeatable manner. This will also ensure other people (including our future self), can reproduce the results. For predictive modeling tasks, data must be versioned just as we do for code since it's being transformed over time. We also need to version data dictionaries & configuration parameters as they are likely to change for the same reasons data does. Model binary persistence is important inorder for production or DevOps engineers to put the model into production. Model interpretability & business results should also be versioned as they will differ for each model.\n",
    "\n",
    "## Question 2\n",
    "\n",
    "While the notebook development workflow has many advantages, can you think of at least 3 side effects of what could go wrong with just using Jupyter notebooks to build a production model?\n",
    "\n",
    "## Answer\n",
    "\n",
    "1. It's super easy to move code cells up & down in a notebook making the notebook crash when the kernel is restarted. \n",
    "\n",
    "2. In the interactive notebook development workflow, we often times put print statements and other code for debugging purposes. These types of considerations are important during model development, but not optimized to run in a production setting.\n",
    "\n",
    "3. Your third party dependencies are likely different than those available in production. You'll likely benefit from printing out the specific versions of each package you're using to ensure the production environment can contain an identical set of dependencies. If this assumption is violated, nasty things could happen by using different versions of packages between development & production environment."
   ]
  }
 ],
 "metadata": {
  "kernelspec": {
   "display_name": "Python 3",
   "language": "python",
   "name": "python3"
  },
  "language_info": {
   "codemirror_mode": {
    "name": "ipython",
    "version": 3
   },
   "file_extension": ".py",
   "mimetype": "text/x-python",
   "name": "python",
   "nbconvert_exporter": "python",
   "pygments_lexer": "ipython3",
   "version": "3.6.5"
  }
 },
 "nbformat": 4,
 "nbformat_minor": 2
}
