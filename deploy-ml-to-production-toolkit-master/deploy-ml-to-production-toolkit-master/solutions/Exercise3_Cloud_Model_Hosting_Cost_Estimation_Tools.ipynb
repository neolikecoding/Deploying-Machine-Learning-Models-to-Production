{
 "cells": [
  {
   "cell_type": "markdown",
   "metadata": {},
   "source": [
    "## Question\n",
    "\n",
    "Try to think of the many ways to control costs of deploying a machine learning model to production?\n",
    "\n",
    "## Answer\n",
    "\n",
    "a) Setup cloud vendor budget alerts (10%, 20%, 50%, 70% of budget etc)\n",
    "\n",
    "b) Identify how much service availability & failure tolerance is actually needed\n",
    "\n",
    "c) Capacity plan in response to expected number of inferences\n",
    "\n",
    "d) Invest in automation of model deploy process (SageMaker, AutoML, etc)\n",
    "\n",
    "e) Find & eliminate unused/un-necessary resources (storage, LBs, instances...)\n",
    "\n",
    "f) Create resource schedules to elastically scaleup/scaledown based on traffic\n",
    "\n",
    "g) Containers for density (microservices)\n",
    "\n",
    "h) Leverage long term storage (cost effective)\n",
    "\n",
    "i) Review usage periodically\n",
    "\n",
    "j) Stand up a cost dashboard (can’t fix what you can’t see)\n",
    "\n",
    "k) Use Policy Based Governance (using tags)\n",
    "\n",
    "l) Can you split some inference tasks to offline job done asynchronously?"
   ]
  }
 ],
 "metadata": {
  "kernelspec": {
   "display_name": "Python 3",
   "language": "python",
   "name": "python3"
  },
  "language_info": {
   "codemirror_mode": {
    "name": "ipython",
    "version": 3
   },
   "file_extension": ".py",
   "mimetype": "text/x-python",
   "name": "python",
   "nbconvert_exporter": "python",
   "pygments_lexer": "ipython3",
   "version": "3.6.5"
  }
 },
 "nbformat": 4,
 "nbformat_minor": 2
}
